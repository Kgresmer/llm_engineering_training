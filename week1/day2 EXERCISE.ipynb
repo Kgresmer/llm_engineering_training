{
 "cells": [
  {
   "cell_type": "markdown",
   "id": "d15d8294-3328-4e07-ad16-8a03e9bbfdb9",
   "metadata": {},
   "source": [
    "# Welcome to your first assignment!\n",
    "\n",
    "Instructions are below. Please give this a try, and look in the solutions folder if you get stuck (or feel free to ask me!)"
   ]
  },
  {
   "cell_type": "markdown",
   "id": "ada885d9-4d42-4d9b-97f0-74fbbbfe93a9",
   "metadata": {},
   "source": [
    "<table style=\"margin: 0; text-align: left;\">\n",
    "    <tr>\n",
    "        <td style=\"width: 150px; height: 150px; vertical-align: middle;\">\n",
    "            <img src=\"../resources.jpg\" width=\"150\" height=\"150\" style=\"display: block;\" />\n",
    "        </td>\n",
    "        <td>\n",
    "            <h2 style=\"color:#f71;\">Just before we get to the assignment --</h2>\n",
    "            <span style=\"color:#f71;\">I thought I'd take a second to point you at this page of useful resources for the course. This includes links to all the slides.<br/>\n",
    "            <a href=\"https://edwarddonner.com/2024/11/13/llm-engineering-resources/\">https://edwarddonner.com/2024/11/13/llm-engineering-resources/</a><br/>\n",
    "            Please keep this bookmarked, and I'll continue to add more useful links there over time.\n",
    "            </span>\n",
    "        </td>\n",
    "    </tr>\n",
    "</table>"
   ]
  },
  {
   "cell_type": "markdown",
   "id": "6e9fa1fc-eac5-4d1d-9be4-541b3f2b3458",
   "metadata": {},
   "source": [
    "# HOMEWORK EXERCISE ASSIGNMENT\n",
    "\n",
    "Upgrade the day 1 project to summarize a webpage to use an Open Source model running locally via Ollama rather than OpenAI\n",
    "\n",
    "You'll be able to use this technique for all subsequent projects if you'd prefer not to use paid APIs.\n",
    "\n",
    "**Benefits:**\n",
    "1. No API charges - open-source\n",
    "2. Data doesn't leave your box\n",
    "\n",
    "**Disadvantages:**\n",
    "1. Significantly less power than Frontier Model\n",
    "\n",
    "## Recap on installation of Ollama\n",
    "\n",
    "Simply visit [ollama.com](https://ollama.com) and install!\n",
    "\n",
    "Once complete, the ollama server should already be running locally.  \n",
    "If you visit:  \n",
    "[http://localhost:11434/](http://localhost:11434/)\n",
    "\n",
    "You should see the message `Ollama is running`.  \n",
    "\n",
    "If not, bring up a new Terminal (Mac) or Powershell (Windows) and enter `ollama serve`  \n",
    "And in another Terminal (Mac) or Powershell (Windows), enter `ollama pull llama3.2`  \n",
    "Then try [http://localhost:11434/](http://localhost:11434/) again.\n",
    "\n",
    "If Ollama is slow on your machine, try using `llama3.2:1b` as an alternative. Run `ollama pull llama3.2:1b` from a Terminal or Powershell, and change the code below from `MODEL = \"llama3.2\"` to `MODEL = \"llama3.2:1b\"`"
   ]
  },
  {
   "cell_type": "code",
   "execution_count": 1,
   "id": "4e2a9393-7767-488e-a8bf-27c12dca35bd",
   "metadata": {},
   "outputs": [],
   "source": [
    "# imports\n",
    "\n",
    "import requests\n",
    "from bs4 import BeautifulSoup\n",
    "from IPython.display import Markdown, display"
   ]
  },
  {
   "cell_type": "code",
   "execution_count": 2,
   "id": "29ddd15d-a3c5-4f4e-a678-873f56162724",
   "metadata": {},
   "outputs": [],
   "source": [
    "# Constants\n",
    "\n",
    "OLLAMA_API = \"http://localhost:11434/api/chat\"\n",
    "HEADERS = {\"Content-Type\": \"application/json\"}\n",
    "MODEL = \"llama3.2\""
   ]
  },
  {
   "cell_type": "code",
   "execution_count": 3,
   "id": "dac0a679-599c-441f-9bf2-ddc73d35b940",
   "metadata": {},
   "outputs": [],
   "source": [
    "# Create a messages list using the same format that we used for OpenAI\n",
    "\n",
    "messages = [\n",
    "    {\"role\": \"user\", \"content\": \"Describe some of the business applications of Generative AI\"}\n",
    "]"
   ]
  },
  {
   "cell_type": "code",
   "execution_count": 4,
   "id": "7bb9c624-14f0-4945-a719-8ddb64f66f47",
   "metadata": {},
   "outputs": [],
   "source": [
    "payload = {\n",
    "        \"model\": MODEL,\n",
    "        \"messages\": messages,\n",
    "        \"stream\": False\n",
    "    }"
   ]
  },
  {
   "cell_type": "code",
   "execution_count": 5,
   "id": "479ff514-e8bd-4985-a572-2ea28bb4fa40",
   "metadata": {},
   "outputs": [
    {
     "name": "stderr",
     "output_type": "stream",
     "text": [
      "\u001b[?25lpulling manifest â ‹ \u001b[?25h\u001b[?25l\u001b[2K\u001b[1Gpulling manifest â ™ \u001b[?25h\u001b[?25l\u001b[2K\u001b[1Gpulling manifest â ¹ \u001b[?25h\u001b[?25l\u001b[2K\u001b[1Gpulling manifest \n",
      "pulling dde5aa3fc5ff... 100% â–•â–ˆâ–ˆâ–ˆâ–ˆâ–ˆâ–ˆâ–ˆâ–ˆâ–ˆâ–ˆâ–ˆâ–ˆâ–ˆâ–ˆâ–ˆâ–ˆâ–� 2.0 GB                         \n",
      "pulling 966de95ca8a6... 100% â–•â–ˆâ–ˆâ–ˆâ–ˆâ–ˆâ–ˆâ–ˆâ–ˆâ–ˆâ–ˆâ–ˆâ–ˆâ–ˆâ–ˆâ–ˆâ–ˆâ–� 1.4 KB                         \n",
      "pulling fcc5a6bec9da... 100% â–•â–ˆâ–ˆâ–ˆâ–ˆâ–ˆâ–ˆâ–ˆâ–ˆâ–ˆâ–ˆâ–ˆâ–ˆâ–ˆâ–ˆâ–ˆâ–ˆâ–� 7.7 KB                         \n",
      "pulling a70ff7e570d9... 100% â–•â–ˆâ–ˆâ–ˆâ–ˆâ–ˆâ–ˆâ–ˆâ–ˆâ–ˆâ–ˆâ–ˆâ–ˆâ–ˆâ–ˆâ–ˆâ–ˆâ–� 6.0 KB                         \n",
      "pulling 56bb8bd477a5... 100% â–•â–ˆâ–ˆâ–ˆâ–ˆâ–ˆâ–ˆâ–ˆâ–ˆâ–ˆâ–ˆâ–ˆâ–ˆâ–ˆâ–ˆâ–ˆâ–ˆâ–�   96 B                         \n",
      "pulling 34bb5ab01051... 100% â–•â–ˆâ–ˆâ–ˆâ–ˆâ–ˆâ–ˆâ–ˆâ–ˆâ–ˆâ–ˆâ–ˆâ–ˆâ–ˆâ–ˆâ–ˆâ–ˆâ–�  561 B                         \n",
      "verifying sha256 digest \n",
      "writing manifest \n",
      "success \u001b[?25h\n"
     ]
    }
   ],
   "source": [
    "# Let's just make sure the model is loaded\n",
    "\n",
    "!ollama pull llama3.2"
   ]
  },
  {
   "cell_type": "code",
   "execution_count": 6,
   "id": "42b9f644-522d-4e05-a691-56e7658c0ea9",
   "metadata": {},
   "outputs": [
    {
     "name": "stdout",
     "output_type": "stream",
     "text": [
      "Generative AI has numerous business applications across various industries. Here are some examples:\n",
      "\n",
      "1. **Content Generation**: Generative AI can create high-quality, unique content such as articles, blog posts, social media posts, and even entire books. This can be used for content marketing, social media management, and other forms of digital content creation.\n",
      "2. **Product Design and Development**: Generative AI can help design new products, such as furniture, clothing, and accessories, by generating 3D models, prototypes, and even working designs. This can save time and resources in the product development process.\n",
      "3. **Image and Video Generation**: Generative AI can create realistic images and videos for various applications, including advertising, marketing, and entertainment. For example, it can generate images of products or scenes to be used in advertising campaigns.\n",
      "4. **Chatbots and Virtual Assistants**: Generative AI can power chatbots and virtual assistants that can engage with customers, answer questions, and provide support 24/7. This can improve customer service and reduce the need for human customer support agents.\n",
      "5. **Data Analysis and Insights**: Generative AI can analyze large datasets and generate insights that can help businesses make data-driven decisions. For example, it can identify trends, patterns, and correlations in data to inform business strategies.\n",
      "6. **Marketing and Advertising**: Generative AI can create personalized marketing campaigns, such as email newsletters, social media ads, and influencer partnerships. It can also help optimize advertising budgets and improve campaign performance.\n",
      "7. **Customer Service and Support**: Generative AI can provide customer support by generating responses to common questions, resolving simple issues, and even escalating complex problems to human agents.\n",
      "8. **Product Recommendation Systems**: Generative AI can create personalized product recommendation systems that suggest products based on a user's browsing history, purchase behavior, and preferences.\n",
      "9. **Automated Transcription and Translation**: Generative AI can automatically transcribe and translate audio and video content into multiple languages, making it easier to access global markets and communicate with customers worldwide.\n",
      "10. **Predictive Maintenance and Quality Control**: Generative AI can analyze sensor data from machines and predict when maintenance is required, reducing downtime and improving overall efficiency. It can also detect anomalies in product quality and suggest improvements.\n",
      "\n",
      "Some of the industries that are already leveraging generative AI include:\n",
      "\n",
      "1. **E-commerce**: Using AI to optimize product listings, create personalized marketing campaigns, and generate high-quality content.\n",
      "2. **Financial Services**: Using AI to analyze customer data, predict credit risk, and optimize investment portfolios.\n",
      "3. **Healthcare**: Using AI to analyze medical images, diagnose diseases, and develop personalized treatment plans.\n",
      "4. **Manufacturing**: Using AI to optimize production processes, predict maintenance needs, and improve product quality.\n",
      "5. **Education**: Using AI to create personalized learning plans, grade assignments, and provide feedback.\n",
      "\n",
      "These are just a few examples of the many business applications of generative AI. As the technology continues to evolve, we can expect to see even more innovative uses in various industries.\n"
     ]
    }
   ],
   "source": [
    "# If this doesn't work for any reason, try the 2 versions in the following cells\n",
    "# And double check the instructions in the 'Recap on installation of Ollama' at the top of this lab\n",
    "# And if none of that works - contact me!\n",
    "\n",
    "response = requests.post(OLLAMA_API, json=payload, headers=HEADERS)\n",
    "print(response.json()['message']['content'])"
   ]
  },
  {
   "cell_type": "markdown",
   "id": "6a021f13-d6a1-4b96-8e18-4eae49d876fe",
   "metadata": {},
   "source": [
    "# Introducing the ollama package\n",
    "\n",
    "And now we'll do the same thing, but using the elegant ollama python package instead of a direct HTTP call.\n",
    "\n",
    "Under the hood, it's making the same call as above to the ollama server running at localhost:11434"
   ]
  },
  {
   "cell_type": "code",
   "execution_count": 7,
   "id": "7745b9c4-57dc-4867-9180-61fa5db55eb8",
   "metadata": {},
   "outputs": [
    {
     "name": "stdout",
     "output_type": "stream",
     "text": [
      "Generative AI has numerous business applications across various industries, including:\n",
      "\n",
      "1. **Content Creation**: Generative AI can generate high-quality content such as articles, social media posts, product descriptions, and even entire books. This can help businesses save time and resources while maintaining consistency in their content.\n",
      "2. **Marketing Automation**: Generative AI can be used to automate marketing campaigns by generating personalized emails, ads, and promotional materials based on customer data and preferences.\n",
      "3. **Personalization**: Generative AI can analyze customer data and behavior to generate personalized product recommendations, offers, and experiences that improve customer engagement and loyalty.\n",
      "4. **Customer Service**: Generative AI-powered chatbots and virtual assistants can provide 24/7 customer support, answer common questions, and route complex issues to human agents.\n",
      "5. **Design and Creative Tools**: Generative AI can be used in design software such as Adobe Photoshop and Illustrator to create original artwork, graphics, and designs that are indistinguishable from those created by humans.\n",
      "6. **Product Development**: Generative AI can assist in product development by generating concept designs, prototypes, and even entire product lines based on market trends and customer feedback.\n",
      "7. **Finance and Banking**: Generative AI can be used to analyze financial data, predict market trends, and generate investment recommendations, helping businesses make more informed investment decisions.\n",
      "8. **Supply Chain Optimization**: Generative AI can analyze supply chain data to identify bottlenecks, optimize inventory levels, and predict demand fluctuations, leading to improved efficiency and reduced costs.\n",
      "9. **Risk Management**: Generative AI can help businesses identify potential risks by analyzing vast amounts of data and generating predictive models that forecast the likelihood of adverse events.\n",
      "10. **Sales Forecasting**: Generative AI can analyze historical sales data and market trends to generate accurate sales forecasts, enabling businesses to make informed decisions about inventory management, pricing, and resource allocation.\n",
      "11. **Content Moderation**: Generative AI-powered content moderation tools can detect and flag sensitive or objectionable content in real-time, reducing the risk of online harassment and reputational damage.\n",
      "12. **Cybersecurity**: Generative AI can help identify potential security threats by analyzing network traffic patterns, identifying anomalies, and predicting attacks before they happen.\n",
      "\n",
      "These are just a few examples of the many business applications of Generative AI. As the technology continues to evolve, we can expect to see even more innovative uses in various industries and sectors.\n"
     ]
    }
   ],
   "source": [
    "import ollama\n",
    "\n",
    "response = ollama.chat(model=MODEL, messages=messages)\n",
    "print(response['message']['content'])"
   ]
  },
  {
   "cell_type": "markdown",
   "id": "a4704e10-f5fb-4c15-a935-f046c06fb13d",
   "metadata": {},
   "source": [
    "## Alternative approach - using OpenAI python library to connect to Ollama"
   ]
  },
  {
   "cell_type": "code",
   "execution_count": 8,
   "id": "23057e00-b6fc-4678-93a9-6b31cb704bff",
   "metadata": {},
   "outputs": [
    {
     "name": "stdout",
     "output_type": "stream",
     "text": [
      "Och, lassie! Are ye lookin' fer a wee bit o' paradise on earth? Look no further than the Hyatt Regency Hakone Resort and Spa! This bonnie destination is nestled in the scenic hills o' Hakone, Japan, whaur the majestic Japanese Alps meet the Pacific Ocean.\n",
      "\n",
      "Our resort offers 410 luxurious rooms an' suites, each wi' its ain en-suite bathroom, flat-screen TV, an' all sorts o' modern amentities. An' when ye need tae relax, jist step ootside intae oor serene gardens or ootside pool, where ye can take in the breathtaking views o' Mt. Fuji.\n",
      "\n",
      "But it's no' just a wee bit o' beauty, lass! We've got a whole range o' activities an' experiences tae suit every interest. Enjoy unwindin' wi' our on-site spa, or get yer hearts racin' wi' some thrilling outdoor pursuits like hiking, rock climbin', an' even hot springs!\n",
      "\n",
      "An' dinnae ferget aboot the local cuisine! Ye can expect a mix o' traditional Japanese an' international flavors at oor restaurants, includin' sushi, tempura, an' a wee bit o' Scottish hospitality (ye ken we've got some fine shortbread in yer suitcase already!)\n",
      "\n",
      "At Hyatt Regency Hakone Resort and Spa, ye might just find yerself turnin' ane minute yer ticket's away! An' since we're part o' the Hyatt group, ye can aye take advantage o' their rewards program an' exclusive benefits.\n"
     ]
    }
   ],
   "source": [
    "# There's actually an alternative approach that some people might prefer\n",
    "# You can use the OpenAI client python library to call Ollama:\n",
    "messages = [\n",
    "    {\"role\": \"system\", \"content\": \"You are a scottish salesmen trying to summarize a website\"},\n",
    "    {\"role\": \"user\", \"content\": \"Summarize this website to sell its contents: https://www.hyatt.com/hyatt-regency/en-US/hakhr-hyatt-regency-hakone-resort-and-spa\"}\n",
    "]\n",
    "from openai import OpenAI\n",
    "ollama_via_openai = OpenAI(base_url='http://localhost:11434/v1', api_key='ollama')\n",
    "\n",
    "response = ollama_via_openai.chat.completions.create(\n",
    "    model=MODEL,\n",
    "    messages=messages\n",
    ")\n",
    "\n",
    "print(response.choices[0].message.content)"
   ]
  },
  {
   "cell_type": "markdown",
   "id": "1622d9bb-5c68-4d4e-9ca4-b492c751f898",
   "metadata": {},
   "source": [
    "# NOW the exercise for you\n",
    "\n",
    "Take the code from day1 and incorporate it here, to build a website summarizer that uses Llama 3.2 running locally instead of OpenAI; use either of the above approaches."
   ]
  },
  {
   "cell_type": "code",
   "execution_count": null,
   "id": "402d5686-4e76-4110-b65a-b3906c35c0a4",
   "metadata": {},
   "outputs": [],
   "source": []
  }
 ],
 "metadata": {
  "kernelspec": {
   "display_name": "Python 3 (ipykernel)",
   "language": "python",
   "name": "python3"
  },
  "language_info": {
   "codemirror_mode": {
    "name": "ipython",
    "version": 3
   },
   "file_extension": ".py",
   "mimetype": "text/x-python",
   "name": "python",
   "nbconvert_exporter": "python",
   "pygments_lexer": "ipython3",
   "version": "3.11.11"
  }
 },
 "nbformat": 4,
 "nbformat_minor": 5
}
