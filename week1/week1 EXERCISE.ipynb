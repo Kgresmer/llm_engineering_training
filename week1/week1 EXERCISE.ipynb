{
 "cells": [
  {
   "cell_type": "markdown",
   "id": "fe12c203-e6a6-452c-a655-afb8a03a4ff5",
   "metadata": {},
   "source": [
    "# End of week 1 exercise\n",
    "\n",
    "To demonstrate your familiarity with OpenAI API, and also Ollama, build a tool that takes a technical question,  \n",
    "and responds with an explanation. This is a tool that you will be able to use yourself during the course!"
   ]
  },
  {
   "cell_type": "code",
   "execution_count": 12,
   "id": "c1070317-3ed9-4659-abe3-828943230e03",
   "metadata": {},
   "outputs": [],
   "source": [
    "# imports\n",
    "from dotenv import load_dotenv\n",
    "from openai import OpenAI\n",
    "from IPython.display import Markdown, display, update_display\n",
    "import os"
   ]
  },
  {
   "cell_type": "code",
   "execution_count": 13,
   "id": "4a456906-915a-4bfd-bb9d-57e505c5093f",
   "metadata": {},
   "outputs": [],
   "source": [
    "# constants\n",
    "load_dotenv(override=True)\n",
    "api_key = os.getenv('OPENAI_API_KEY')\n",
    "\n",
    "MODEL_GPT = 'gpt-4o-mini'\n",
    "MODEL_LLAMA = 'llama3.2'\n",
    "openai = OpenAI()"
   ]
  },
  {
   "cell_type": "code",
   "execution_count": 14,
   "id": "a8d7923c-5f28-4c30-8556-342d7c8497c1",
   "metadata": {},
   "outputs": [],
   "source": [
    "# set up environment"
   ]
  },
  {
   "cell_type": "code",
   "execution_count": 15,
   "id": "3f0d0137-52b0-47a8-81a8-11a90a010798",
   "metadata": {},
   "outputs": [],
   "source": [
    "# here is the question; type over this to ask something new\n",
    "\n",
    "question1 = \"\"\"\n",
    "Please explain what this code does and why:\n",
    "yield from {book.get(\"author\") for book in books if book.get(\"author\")}\n",
    "\"\"\""
   ]
  },
  {
   "cell_type": "code",
   "execution_count": 22,
   "id": "60ce7000-a4a5-4cce-a261-e75ef45063b4",
   "metadata": {},
   "outputs": [],
   "source": [
    "# Get gpt-4o-mini to answer, with streaming\n",
    "def build_prompts(question) :\n",
    "    system_prompt = 'You are a subject matter expert on large language models, machine learning and all things AI.'\n",
    "    user_prompt = question\n",
    "    return { \"system\": system_prompt, \"user\": user_prompt }\n",
    "\n",
    "def get_answer(question):\n",
    "    prompts = build_prompts(question)\n",
    "    stream = openai.chat.completions.create(\n",
    "        model=MODEL_GPT,\n",
    "        messages=[\n",
    "            {\"role\": \"system\", \"content\": prompts[\"system\"]},\n",
    "            {\"role\": \"user\", \"content\": prompts[\"user\"]},\n",
    "        ],\n",
    "        stream=True\n",
    "    )\n",
    "    response = \"\"\n",
    "    display_handle = display(Markdown(\"\"), display_id=True)\n",
    "    for chunk in stream:\n",
    "        response += chunk.choices[0].delta.content or ''\n",
    "        response = response.replace(\"```\",\"\").replace(\"markdown\", \"\")\n",
    "        update_display(Markdown(response), display_id=display_handle.display_id)"
   ]
  },
  {
   "cell_type": "code",
   "execution_count": 23,
   "id": "8f7c8ea8-4082-4ad0-8751-3301adcf6538",
   "metadata": {},
   "outputs": [],
   "source": [
    "# Get Llama 3.2 to answer"
   ]
  },
  {
   "cell_type": "code",
   "execution_count": 24,
   "id": "78c5082e-fb53-48be-a864-f021bce09ba4",
   "metadata": {},
   "outputs": [
    {
     "data": {
      "text/markdown": [
       "This code snippet is using a generator expression with the `yield from` statement in Python. Let's break down the components to understand what it does and why it might be used:\n",
       "\n",
       "1. **Generator Functionality**:\n",
       "   - `yield from <iterable>` is a syntax used in Python to delegate part of a generator's operations to another generator (or any iterable). The generator will yield all values from the iterable provided.\n",
       "\n",
       "2. **Set Comprehension**:\n",
       "   - `{book.get(\"author\") for book in books if book.get(\"author\")}` is a set comprehension. It constructs a set by iterating over the collection of `books`. \n",
       "   - For each `book`, it attempts to retrieve the value associated with the `\"author\"` key using `book.get(\"author\")`. The `get` method is safe because it returns `None` if the key doesn't exist, which avoids KeyError exceptions.\n",
       "   - The condition `if book.get(\"author\")` filters out any `book` entries where the author is `None` or an empty string (since these would evaluate to `False`). This means only books that have a valid author will have their authors added to the set.\n",
       "\n",
       "3. **Final Output**:\n",
       "   - The resulting set (created by the set comprehension) will contain all unique authors from the `books` collection that have valid entries.\n",
       "   - Using `yield from` here will allow the function that contains this line to yield each unique author one at a time, making it an efficient way to iterate over potentially large sets of authors.\n",
       "\n",
       "### Why Use This Code?\n",
       "\n",
       "- **Uniqueness**: By utilizing a set comprehension, it ensures that each author is only yielded once, even if they appear in multiple `book` entries.\n",
       "- **Efficiency**: It avoids creating a temporary list of authors to yield them all at once. Instead, it yields each author individually, which can be beneficial in terms of memory use, especially if the list of books is large.\n",
       "- **Readability**: The code uses clear constructs of Python (generator expressions and comprehensions) that make it concise and expressive.\n",
       "\n",
       "### Example Context:\n",
       "\n",
       "If `books` is a list of dictionaries that represent different books, and each dictionary has an `\"author\"` key, this line of code might be found in a generator function that is part of a library or application dealing with book data, such as a cataloging system, search functionality, or data analytics platform. \n",
       "\n",
       "Overall, this code is a neat, efficient way to collect and yield unique authors from a potentially large collection of books while maintaining the integrity and avoidance of duplicates."
      ],
      "text/plain": [
       "<IPython.core.display.Markdown object>"
      ]
     },
     "metadata": {},
     "output_type": "display_data"
    }
   ],
   "source": [
    "get_answer(question1)"
   ]
  },
  {
   "cell_type": "code",
   "execution_count": null,
   "id": "b7db9acc-0db3-4f17-8909-ee17f4253d83",
   "metadata": {},
   "outputs": [],
   "source": []
  }
 ],
 "metadata": {
  "kernelspec": {
   "display_name": "Python 3 (ipykernel)",
   "language": "python",
   "name": "python3"
  },
  "language_info": {
   "codemirror_mode": {
    "name": "ipython",
    "version": 3
   },
   "file_extension": ".py",
   "mimetype": "text/x-python",
   "name": "python",
   "nbconvert_exporter": "python",
   "pygments_lexer": "ipython3",
   "version": "3.11.11"
  }
 },
 "nbformat": 4,
 "nbformat_minor": 5
}
